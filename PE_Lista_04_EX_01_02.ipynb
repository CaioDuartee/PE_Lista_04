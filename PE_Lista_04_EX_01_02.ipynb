{
  "nbformat": 4,
  "nbformat_minor": 0,
  "metadata": {
    "colab": {
      "name": "PE_Lista_04_EX_01_02.ipynb",
      "provenance": [],
      "collapsed_sections": [],
      "authorship_tag": "ABX9TyMHiF4Fa/cfb5UcUoavnx5e",
      "include_colab_link": true
    },
    "kernelspec": {
      "name": "python3",
      "display_name": "Python 3"
    }
  },
  "cells": [
    {
      "cell_type": "markdown",
      "metadata": {
        "id": "view-in-github",
        "colab_type": "text"
      },
      "source": [
        "<a href=\"https://colab.research.google.com/github/CaioDuartee/PE_Lista_04/blob/main/PE_Lista_04_EX_01_02.ipynb\" target=\"_parent\"><img src=\"https://colab.research.google.com/assets/colab-badge.svg\" alt=\"Open In Colab\"/></a>"
      ]
    },
    {
      "cell_type": "code",
      "metadata": {
        "colab": {
          "base_uri": "https://localhost:8080/"
        },
        "id": "5o9tfUaH0rny",
        "outputId": "e3b0bc55-113c-46ea-efd6-529bf6f7a3ce"
      },
      "source": [
        "\"\"\"\n",
        "1. Escreva um programa para ler o número de lados de um polígono regular e a\n",
        "medida do lado (em cm). Calcular e imprimir o seguinte: − Se o número de lados\n",
        "for igual a 3 escrever TRIÂNGULO e o valor da área − Se o número de lados for\n",
        "igual a 4 escrever QUADRADO e o valor da sua área. − Se o número de lados for\n",
        "igual a 5 escrever PENTÁGONO.\n",
        "2. Acrescente as seguintes mensagens à solução do exercício anterior conforme o\n",
        "caso. − Caso o número de lados seja inferior a 3 escrever NÃO É UM\n",
        "POLÍGONO. − Caso o número de lados seja superior a 5 escrever POLÍGONO\n",
        "NÃO IDENTIFICADO.\n",
        "\"\"\"\n",
        "\n",
        "lados = int(input(\"Digite a quantidade de lados: \"))\n",
        "altura = int(input('Digite a altura do triãngulo: '))\n",
        "base = int(input('Digite a base do triãngulo: '))\n",
        "ladoq = int(input(\"Digite o lado do quadrado:\")) \n",
        "\n",
        "if lados < 3:\n",
        "  print(\"Não é um Polígono\")\n",
        "\n",
        "if lados == 3:\n",
        "  print(\"A figura é um triangulo.\")\n",
        "\n",
        "area = (base * altura)/2\n",
        "print('A área do triãngulo é:', area)\n",
        "  \n",
        "if lados == 4:\n",
        "  print(\"A figura é um quadrado.\")\n",
        "\n",
        "area = ladoq * ladoq\n",
        "print(\"A área do quadrado é:\", area)\n",
        "\n",
        "if lados == 5:\n",
        "  print(\"A figura é um pentágono.\")\n",
        "\n",
        "if lados > 5:\n",
        "  print(\"Polígono não identificado\")\n",
        "\n"
      ],
      "execution_count": 1,
      "outputs": [
        {
          "output_type": "stream",
          "text": [
            "Digite a quantidade de lados: 4\n",
            "Digite a altura do triãngulo: 2\n",
            "Digite a base do triãngulo: 2\n",
            "Digite o lado do quadrado:10\n",
            "A área do triãngulo é: 2.0\n",
            "A figura é um quadrado.\n",
            "A área do quadrado é: 100\n"
          ],
          "name": "stdout"
        }
      ]
    }
  ]
}