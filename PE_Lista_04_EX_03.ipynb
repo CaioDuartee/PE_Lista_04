{
  "nbformat": 4,
  "nbformat_minor": 0,
  "metadata": {
    "colab": {
      "name": "PE_Lista_04_EX_03.ipynb",
      "provenance": [],
      "collapsed_sections": [],
      "authorship_tag": "ABX9TyNIErkHh++iCYxz4WDQEXwh",
      "include_colab_link": true
    },
    "kernelspec": {
      "name": "python3",
      "display_name": "Python 3"
    }
  },
  "cells": [
    {
      "cell_type": "markdown",
      "metadata": {
        "id": "view-in-github",
        "colab_type": "text"
      },
      "source": [
        "<a href=\"https://colab.research.google.com/github/CaioDuartee/PE_Lista_04/blob/main/PE_Lista_04_EX_03.ipynb\" target=\"_parent\"><img src=\"https://colab.research.google.com/assets/colab-badge.svg\" alt=\"Open In Colab\"/></a>"
      ]
    },
    {
      "cell_type": "code",
      "metadata": {
        "colab": {
          "base_uri": "https://localhost:8080/"
        },
        "id": "t_u9lFCh2I4w",
        "outputId": "d71d3295-5a80-408c-f526-c1672223ea91"
      },
      "source": [
        "\"\"\"\n",
        "3. Escreva um programa para ler 3 valores inteiros e escrever o maior deles.\n",
        "Considere que o usuário não informará valores iguais.\n",
        "\"\"\"\n",
        "\n",
        "num1 = int(input(\"Digite o primeiro numero: \"))\n",
        "num2 = int(input(\"Digite o segundo numero: \"))\n",
        "num3 = int(input(\"Digite o terceiro numero: \"))\n",
        "\n",
        "if (num1 > num2) and (num2 > num3):\n",
        " print(num1)\n",
        "elif (num2 > num1) and (num1 > num3):\n",
        " print(num2)\n",
        "else:\n",
        " print(num3)\n"
      ],
      "execution_count": 6,
      "outputs": [
        {
          "output_type": "stream",
          "text": [
            "Digite o primeiro numero: 5\n",
            "Digite o segundo numero: 8\n",
            "Digite o terceiro numero: 2\n",
            "8\n"
          ],
          "name": "stdout"
        }
      ]
    }
  ]
}