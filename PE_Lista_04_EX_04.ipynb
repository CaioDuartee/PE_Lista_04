{
  "nbformat": 4,
  "nbformat_minor": 0,
  "metadata": {
    "colab": {
      "name": "PE_Lista_04_EX_04.ipynb",
      "provenance": [],
      "collapsed_sections": [],
      "authorship_tag": "ABX9TyMeCC9AcLtOSRnO6kyo4W5Z",
      "include_colab_link": true
    },
    "kernelspec": {
      "name": "python3",
      "display_name": "Python 3"
    }
  },
  "cells": [
    {
      "cell_type": "markdown",
      "metadata": {
        "id": "view-in-github",
        "colab_type": "text"
      },
      "source": [
        "<a href=\"https://colab.research.google.com/github/CaioDuartee/PE_Lista_04/blob/main/PE_Lista_04_EX_04.ipynb\" target=\"_parent\"><img src=\"https://colab.research.google.com/assets/colab-badge.svg\" alt=\"Open In Colab\"/></a>"
      ]
    },
    {
      "cell_type": "code",
      "metadata": {
        "colab": {
          "base_uri": "https://localhost:8080/"
        },
        "id": "lY1-8rwd4DS0",
        "outputId": "0d12fe3c-6baf-4425-fe24-32d2c95b0eb0"
      },
      "source": [
        "\"\"\"\n",
        "4. Escreva um programa que leia as medidas dos lados de um triângulo e escreva\n",
        "se ele é Equilátero, Isósceles ou Escaleno. Sendo que: − Triângulo Equilátero:\n",
        "possui os 3 lados iguais. − Triângulo Isóscele: possui 2 lados iguais. − Triângulo\n",
        "Escaleno: possui 3 lados diferentes\n",
        "\"\"\"\n",
        "\n",
        "l1 = int(input(\"Lado 1: \"))\n",
        "l2 = int(input(\"Lado 2: \"))\n",
        "l3 = int(input(\"Lado 3: \"))\n",
        "\n",
        "if l1 > (l2 + l3) or l2 > (l1 + l3) or l3 > (l1 + l2):\n",
        "  print(\"Não pode ser um triangulo\")\n",
        "elif l1 == l2 == l3:\n",
        "  print(\"Equilatero\")\n",
        "elif l1 == l2 or l1 == l3 or l2 == l3:\n",
        "  print(\"Isósceles\")\n",
        "else:\n",
        "  print(\"Escaleno\")\n"
      ],
      "execution_count": 3,
      "outputs": [
        {
          "output_type": "stream",
          "text": [
            "Lado 1: 10\n",
            "Lado 2: 20\n",
            "Lado 3: 30\n",
            "Escaleno\n"
          ],
          "name": "stdout"
        }
      ]
    }
  ]
}