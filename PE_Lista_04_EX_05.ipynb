{
  "nbformat": 4,
  "nbformat_minor": 0,
  "metadata": {
    "colab": {
      "name": "PE_Lista_04_EX_05.ipynb",
      "provenance": [],
      "collapsed_sections": [],
      "authorship_tag": "ABX9TyNagK8/7VIvY95ZfLCOe74J",
      "include_colab_link": true
    },
    "kernelspec": {
      "name": "python3",
      "display_name": "Python 3"
    }
  },
  "cells": [
    {
      "cell_type": "markdown",
      "metadata": {
        "id": "view-in-github",
        "colab_type": "text"
      },
      "source": [
        "<a href=\"https://colab.research.google.com/github/CaioDuartee/PE_Lista_04/blob/main/PE_Lista_04_EX_05.ipynb\" target=\"_parent\"><img src=\"https://colab.research.google.com/assets/colab-badge.svg\" alt=\"Open In Colab\"/></a>"
      ]
    },
    {
      "cell_type": "code",
      "metadata": {
        "id": "jvvI1MTrNNuQ",
        "colab": {
          "base_uri": "https://localhost:8080/"
        },
        "outputId": "10bdd1c4-753f-4024-9fb3-b434e240728e"
      },
      "source": [
        "\"\"\"\n",
        "5. Escreva um programa que leia o valor de 3 ângulos de um triângulo e escreva se\n",
        "o triângulo é Acutângulo, Retângulo ou Obtusângulo. Sendo que: − Triângulo\n",
        "Retângulo: possui um ângulo reto. (igual a 90º) − Triângulo Obtusângulo: possui\n",
        "um ângulo obtuso. (maior que90º) − Triângulo Acutângulo: possui três ângulos\n",
        "agudos. (menor que 90º)\n",
        "\"\"\"\n",
        "\n",
        "Aa = float (input(\"Informe o primeiro ângulo: \"))\n",
        "Ab = float (input(\"Informe o segundo ângulo: \"))\n",
        "Ac = float (input(\"Informe o terceiro ângulo: \"))\n",
        "\n",
        "if Aa == 90 or Ab == 90 or Ac == 90:\n",
        "  print(\"É um triângulo retângulo!\")\n",
        "elif Aa > 90 or Ab > 90 or Ac > 90:\n",
        "  print(\"É um triângulo obtuso!\")\n",
        "else: \n",
        "  print(\"É um triângulo agudo!\") # Caso não seja um triângulo retãngulo ou obtuso, e um triângulo agudo. Não é necessario outra verificação"
      ],
      "execution_count": 4,
      "outputs": [
        {
          "output_type": "stream",
          "text": [
            "Informe o primeiro ângulo: 80\n",
            "Informe o segundo ângulo: 60\n",
            "Informe o terceiro ângulo: 50\n",
            "É um triângulo agudo!\n"
          ],
          "name": "stdout"
        }
      ]
    }
  ]
}