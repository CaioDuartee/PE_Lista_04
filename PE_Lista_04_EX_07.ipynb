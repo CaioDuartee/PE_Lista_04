{
  "nbformat": 4,
  "nbformat_minor": 0,
  "metadata": {
    "colab": {
      "name": "PE_Lista_04_EX_07.ipynb",
      "provenance": [],
      "collapsed_sections": [],
      "authorship_tag": "ABX9TyNTBAwV2hi03igu3/Qo/1RJ",
      "include_colab_link": true
    },
    "kernelspec": {
      "name": "python3",
      "display_name": "Python 3"
    }
  },
  "cells": [
    {
      "cell_type": "markdown",
      "metadata": {
        "id": "view-in-github",
        "colab_type": "text"
      },
      "source": [
        "<a href=\"https://colab.research.google.com/github/CaioDuartee/PE_Lista_04/blob/main/PE_Lista_04_EX_07.ipynb\" target=\"_parent\"><img src=\"https://colab.research.google.com/assets/colab-badge.svg\" alt=\"Open In Colab\"/></a>"
      ]
    },
    {
      "cell_type": "code",
      "metadata": {
        "colab": {
          "base_uri": "https://localhost:8080/"
        },
        "id": "b0Z8W1FcOuRF",
        "outputId": "7ca355ac-b9de-485c-ebac-da54054dedc6"
      },
      "source": [
        "\"\"\"\n",
        "7. Solicitar um número entre 1 e 4. Se a pessoas digitar um número diferente,\n",
        "mostrar a mensagem \"entrada inválida\" e solicitar o número novamente. Se\n",
        "digitar correto mostrar o número digitado.\n",
        "\n",
        "Nessa questão, não consegui retirar o \" Entrada invalida \" mesmo o valor\n",
        "inserido esteja correto. Pode ter sido, por eu ter usado como exemplo o codigo \n",
        "da questão numero 8 como base, e fiquei preso.\n",
        "\"\"\"\n",
        "\n",
        "lista = []\n",
        "while True:\n",
        "  n = int(input('Digite o número entre 1 e 4: '))\n",
        "  lista.append(n)\n",
        "  if (n != 1) or (n != 2) or (n != 3) or (n != 4):\n",
        "    print(\"Entrada Invalida\")\n",
        "  if (n == 1) or (n == 2) or (n == 3) or (n == 4):\n",
        "   print(n)\n",
        "   break"
      ],
      "execution_count": 139,
      "outputs": [
        {
          "output_type": "stream",
          "text": [
            "Digite o número entre 1 e 4: 0\n",
            "Entrada Invalida\n",
            "Digite o número entre 1 e 4: 5\n",
            "Entrada Invalida\n",
            "Digite o número entre 1 e 4: 6\n",
            "Entrada Invalida\n",
            "Digite o número entre 1 e 4: 7\n",
            "Entrada Invalida\n",
            "Digite o número entre 1 e 4: 8\n",
            "Entrada Invalida\n",
            "Digite o número entre 1 e 4: 9\n",
            "Entrada Invalida\n",
            "Digite o número entre 1 e 4: 10\n",
            "Entrada Invalida\n",
            "Digite o número entre 1 e 4: 1\n",
            "Entrada Invalida\n",
            "1\n"
          ],
          "name": "stdout"
        }
      ]
    }
  ]
}