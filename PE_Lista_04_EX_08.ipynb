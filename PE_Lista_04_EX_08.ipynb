{
  "nbformat": 4,
  "nbformat_minor": 0,
  "metadata": {
    "colab": {
      "name": "PE_Lista_04_EX_08.ipynb",
      "provenance": [],
      "collapsed_sections": [],
      "authorship_tag": "ABX9TyNTNB2d1KEJ+j55SlrVJb6X",
      "include_colab_link": true
    },
    "kernelspec": {
      "name": "python3",
      "display_name": "Python 3"
    }
  },
  "cells": [
    {
      "cell_type": "markdown",
      "metadata": {
        "id": "view-in-github",
        "colab_type": "text"
      },
      "source": [
        "<a href=\"https://colab.research.google.com/github/CaioDuartee/PE_Lista_04/blob/main/PE_Lista_04_EX_08.ipynb\" target=\"_parent\"><img src=\"https://colab.research.google.com/assets/colab-badge.svg\" alt=\"Open In Colab\"/></a>"
      ]
    },
    {
      "cell_type": "code",
      "metadata": {
        "colab": {
          "base_uri": "https://localhost:8080/"
        },
        "id": "vWl4BzOpMUQO",
        "outputId": "ccd5696e-e5db-4e2d-ead1-53afadc4b493"
      },
      "source": [
        "\"\"\"\n",
        "8. Fazer um programa que receba vários valores inteiros no teclado (um valor a\n",
        "cada iteração) e determine o maior dos colocados desde o inicio do programa. A\n",
        "condição de término do programa é quando o usuário digitar zero.\n",
        "\"\"\"\n",
        "\n",
        "lista = []\n",
        "while True:\n",
        "    n = int(input('Digite um número: (Digite 0 para o fim da execução): '))\n",
        "    lista.append(n)\n",
        "    if n == 0:\n",
        "        break\n",
        "print ('O maior número da lista é: ',max(lista))"
      ],
      "execution_count": 2,
      "outputs": [
        {
          "output_type": "stream",
          "text": [
            "Digite um número: (Digite 0 para o fim da execução): 1\n",
            "Digite um número: (Digite 0 para o fim da execução): 2\n",
            "Digite um número: (Digite 0 para o fim da execução): 3\n",
            "Digite um número: (Digite 0 para o fim da execução): 5\n",
            "Digite um número: (Digite 0 para o fim da execução): 9\n",
            "Digite um número: (Digite 0 para o fim da execução): 100\n",
            "Digite um número: (Digite 0 para o fim da execução): 1001\n",
            "Digite um número: (Digite 0 para o fim da execução): 823265\n",
            "Digite um número: (Digite 0 para o fim da execução): 0\n",
            "O maior número da lista é:  823265\n"
          ],
          "name": "stdout"
        }
      ]
    }
  ]
}