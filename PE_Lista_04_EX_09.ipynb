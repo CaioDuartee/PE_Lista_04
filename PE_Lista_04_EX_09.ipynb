{
  "nbformat": 4,
  "nbformat_minor": 0,
  "metadata": {
    "colab": {
      "name": "PE_Lista_04_EX_09.ipynb",
      "provenance": [],
      "authorship_tag": "ABX9TyMgePVrrOUME+WDxbdUPcPB",
      "include_colab_link": true
    },
    "kernelspec": {
      "name": "python3",
      "display_name": "Python 3"
    }
  },
  "cells": [
    {
      "cell_type": "markdown",
      "metadata": {
        "id": "view-in-github",
        "colab_type": "text"
      },
      "source": [
        "<a href=\"https://colab.research.google.com/github/CaioDuartee/PE_Lista_04/blob/main/PE_Lista_04_EX_09.ipynb\" target=\"_parent\"><img src=\"https://colab.research.google.com/assets/colab-badge.svg\" alt=\"Open In Colab\"/></a>"
      ]
    },
    {
      "cell_type": "code",
      "metadata": {
        "colab": {
          "base_uri": "https://localhost:8080/"
        },
        "id": "PdJ9Xhb7OKK7",
        "outputId": "08c4ee45-94ff-4ae7-ea19-231fcdfc4041"
      },
      "source": [
        "\"\"\"\n",
        "9. Escreva um programa Python que leia um número inteiro positivo de 4 dígitos,\n",
        "calcule e mostre a sua decomposição em unidade, dezena, centena e milhar:\n",
        "Exemplo: 8531; unidade = 1 dezena = 3 centena = 5 5 milhar = 8\n",
        "\"\"\"\n",
        "\n",
        "n = int (input(\"Digite um número inteiro de 4 dígitos: \")) \n",
        "\n",
        "u = (n // 1) % 10\n",
        "d = (n // 10) % 10 \n",
        "c = (n // 100) % 10\n",
        "m = (n // 1000) % 10\n",
        "\n",
        "print(\"O dígito da unidade é:\", u)\n",
        "print(\"O dígito da dezena é:\", d)\n",
        "print(\"O dígito da centena é:\", c)\n",
        "print(\"O dígito do milhar é:\", m)\n"
      ],
      "execution_count": 1,
      "outputs": [
        {
          "output_type": "stream",
          "text": [
            "Digite um número inteiro de 4 dígitos: 5687\n",
            "O dígito da unidade é: 7\n",
            "O dígito da dezena é: 8\n",
            "O dígito da centena é: 6\n",
            "O dígito do milhar é: 5\n"
          ],
          "name": "stdout"
        }
      ]
    }
  ]
}